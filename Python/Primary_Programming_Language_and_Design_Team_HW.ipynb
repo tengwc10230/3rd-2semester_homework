{
 "cells": [
  {
   "cell_type": "code",
   "execution_count": 26,
   "metadata": {},
   "outputs": [
    {
     "data": {
      "image/png": "[encoded data removed]",
      "text/plain": [
       "<Figure size 432x288 with 1 Axes>"
      ]
     },
     "metadata": {
      "needs_background": "light"
     },
     "output_type": "display_data"
    },
    {
     "data": {
      "image/png": "[encoded data removed]",
      "text/plain": [
       "<Figure size 432x288 with 1 Axes>"
      ]
     },
     "metadata": {
      "needs_background": "light"
     },
     "output_type": "display_data"
    }
   ],
   "source": [
    "#鄧崴駿：程式(爬蟲部分+GUI)\n",
    "#陳泊均：程式(繪圖部分）\n",
    "#方念禧：財金相關知識匯集，提供參考網站\n",
    "#林家生、陳睿瀚：debug,優化程式碼及提供想法\n",
    "\n",
    "import tkinter as tk\n",
    "from PIL import Image,ImageTk\n",
    "from selenium import webdriver\n",
    "import re\n",
    "import json\n",
    "import pandas as pd\n",
    "from bs4 import BeautifulSoup\n",
    "import matplotlib.pyplot as plt\n",
    "#爬公司名稱輸出結果\n",
    "#chromedriver.exe執行檔所存在的路徑 爬蟲講義\n",
    "chrome_path = \"/Users/ilike/Downloads/chromedriver\"\n",
    "driver = webdriver.Chrome(chrome_path)\n",
    "driver.get('https://www.macrotrends.net/stocks/stock-screener')# 輸入網址，交給瀏覽器 \n",
    "pageSource = driver.page_source  # 取得網頁原始碼\n",
    "\n",
    "soup=BeautifulSoup(pageSource,'html.parser')\n",
    "scripts=soup.find_all(\"script\")\n",
    "for script in scripts:\n",
    "    if re.search('var originalData = \\[.*\\]',str(script)):\n",
    "        data=re.search('var originalData = \\[.*\\]',str(script)).group(0) \n",
    "        \n",
    "data=re.search('\\[.*\\]',data).group(0)\n",
    "data=data[2:len(data)-2]\n",
    "datas=data.split(\"},{\") \n",
    "\n",
    "#用json把資料轉乘dict再轉成DataFrame 跑得有點久\n",
    "df=pd.DataFrame([json.loads('{'+datas[0]+'}')])\n",
    "for i in range(1,len(datas)):\n",
    "    add_df=pd.DataFrame([json.loads('{'+datas[i]+'}')])\n",
    "    df=df.append(add_df,ignore_index=True)\n",
    "\n",
    "#GUI的部分\n",
    "window = tk.Tk()\n",
    "window.title(\"Stock Screener\")\n",
    "var=tk.StringVar()\n",
    "\n",
    "label_1 = tk.Label(window, text=\"請輸入指定關鍵字(股票名稱)\").pack()\n",
    "e_1 = tk.Entry(window, textvariable=var).pack()\n",
    "def button_onclick():       \n",
    "    vtext=var.get()\n",
    "    #找到跟輸入一樣的股票公司\n",
    "    for k in range(len(df)):\n",
    "        if (df['comp_name_2'][k] == vtext):\n",
    "            #clear buffer\n",
    "            plt.cla()\n",
    "            plt.clf()\n",
    "            plt.close()\n",
    "            #繪圖部分\n",
    "            #測試輸出Market Cap的值\n",
    "            x=['1 Year % Change', '1 Month % Change', '1 Week % Change']\n",
    "            y=[float(df['price_1y'][k]), float(df['price_1m'][k]), float(df['price_1w'][k])]\n",
    "            plt.bar(x,y)\n",
    "            plt.title(vtext)\n",
    "            plt.savefig(vtext+\"_price.png\")\n",
    "\n",
    "            pic = ImageTk.PhotoImage(Image.open(vtext+\"_price.png\"))\n",
    "            cv = tk.Canvas(window, height=500, width=500)\n",
    "            scroll_y = tk.Scrollbar(cv, orient=\"vertical\", command=cv.yview)\n",
    "            cv.image = pic\n",
    "            cv.create_image(10, 10, anchor='nw', image=pic)\n",
    "            cv.pack()\n",
    "            plt.show()\n",
    "    return\n",
    "   \n",
    "button1 = tk.Button(window, text='送出',command=button_onclick).pack()\n",
    "window.mainloop()"
   ]
  },
  {
   "cell_type": "code",
   "execution_count": null,
   "metadata": {},
   "outputs": [],
   "source": []
  }
 ],
 "metadata": {
  "kernelspec": {
   "display_name": "Python 3",
   "language": "python",
   "name": "python3"
  },
  "language_info": {
   "codemirror_mode": {
    "name": "ipython",
    "version": 3
   },
   "file_extension": ".py",
   "mimetype": "text/x-python",
   "name": "python",
   "nbconvert_exporter": "python",
   "pygments_lexer": "ipython3",
   "version": "3.7.1"
  }
 },
 "nbformat": 4,
 "nbformat_minor": 2
}
